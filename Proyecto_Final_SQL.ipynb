{
 "cells": [
  {
   "cell_type": "markdown",
   "metadata": {},
   "source": [
    "# Proyecto SQL\n",
    "\n",
    "El coronavirus tomó al mundo entero por sorpresa, cambiando la rutina diaria de todos y todas. Los habitantes de las ciudades ya no pasaban su tiempo libre fuera, yendo a cafés y centros comerciales; sino que más gente se quedaba en casa, leyendo libros. Eso atrajo la atención de las startups (empresas emergentes) que se apresuraron a desarrollar nuevas aplicaciones para los amantes de los libros.\n",
    "\n",
    "Te han dado una base de datos de uno de los servicios que compiten en este mercado. Contiene datos sobre libros, editoriales, autores y calificaciones de clientes y reseñas de libros. Esta información se utilizará para generar una propuesta de valor para un nuevo producto."
   ]
  },
  {
   "cell_type": "markdown",
   "metadata": {},
   "source": [
    "# Instrucciones para completar la tarea\n",
    "\n",
    "- Describe los objetivos del estudio.\n",
    "- Estudia las tablas (imprime las primeras filas).\n",
    "- Realiza una consulta SQL para cada una de las tareas.\n",
    "- Genera los resultados de cada consulta en el Notebook.\n",
    "- Describe tus conclusiones para cada una de las tareas."
   ]
  },
  {
   "cell_type": "markdown",
   "metadata": {},
   "source": [
    "# Objetivos del Estudio"
   ]
  },
  {
   "cell_type": "markdown",
   "metadata": {},
   "source": [
    "Los objetivos del estudio son los siguientes:\n",
    "\n",
    "- Determinar cuántos libros han sido publicados desde el 1 de enero de 2000. Esto permite analizar la producción reciente de libros y comprender si existe un crecimiento en las publicaciones durante los últimos años.\n",
    "\n",
    "- Obtener el número de reseñas de usuarios y la calificación promedio para cada libro. Este objetivo permite identificar qué libros son más populares y mejor valorados por los lectores, lo cual puede ayudar en la toma de decisiones sobre qué libros promover.\n",
    "\n",
    "- Determinar qué editorial ha publicado la mayor cantidad de libros con más de 50 páginas. Este análisis excluye folletos y otras publicaciones menores, ayudando a identificar editoriales que se especializan en libros más extensos y completos.\n",
    "\n",
    "- Identificar al autor que tiene la calificación promedio más alta para sus libros, considerando solo aquellos libros que tienen al menos 50 calificaciones. Este objetivo permite destacar a los autores que son consistentemente bien recibidos por el público.\n",
    "\n",
    "- Encontrar el número promedio de reseñas de texto entre los usuarios que han calificado más de 50 libros. Este objetivo ayuda a entender el comportamiento de los usuarios más comprometidos en la plataforma y cómo su actividad puede influir en la comunidad.\n",
    "\n",
    "\n",
    "En conjunto, estos objetivos buscan proporcionar una visión integral del comportamiento de los usuarios, la calidad y popularidad de los libros, la relevancia de las editoriales y autores, y la actividad general del mercado de libros en el contexto de una aplicación de lectura. Esto permitirá desarrollar estrategias más informadas para mejorar la propuesta de valor del producto y satisfacer las necesidades y preferencias de los lectores."
   ]
  },
  {
   "cell_type": "markdown",
   "metadata": {},
   "source": [
    "## Importar librerías y conectarse a la base de datos"
   ]
  },
  {
   "cell_type": "code",
   "execution_count": 2,
   "metadata": {},
   "outputs": [],
   "source": [
    "# Importar librerías\n",
    "\n",
    "import pandas as pd\n",
    "from sqlalchemy import create_engine"
   ]
  },
  {
   "cell_type": "code",
   "execution_count": 16,
   "metadata": {},
   "outputs": [],
   "source": [
    "# Configuración de la base de datos\n",
    "\n",
    "db_config = {\n",
    "    'user': 'practicum_student',\n",
    "    'pwd': 's65BlTKV3faNIGhmvJVzOqhs',\n",
    "    'host': 'rc1b-wcoijxj3yxfsf3fs.mdb.yandexcloud.net',\n",
    "    'port': 6432,\n",
    "    'db': 'data-analyst-final-project-db'\n",
    "}\n",
    "\n",
    "# Cadena de conexión\n",
    "\n",
    "connection_string = 'postgresql://{}:{}@{}:{}/{}'.format(\n",
    "    db_config['user'], db_config['pwd'], db_config['host'], db_config['port'], db_config['db']\n",
    ")\n",
    "\n",
    "# Crear motor de conexión\n",
    "\n",
    "engine = create_engine(connection_string, connect_args={'sslmode': 'require'})"
   ]
  },
  {
   "cell_type": "markdown",
   "metadata": {},
   "source": [
    "## Estudiar las tablas"
   ]
  },
  {
   "cell_type": "code",
   "execution_count": 18,
   "metadata": {},
   "outputs": [
    {
     "data": {
      "text/html": [
       "<div>\n",
       "<style scoped>\n",
       "    .dataframe tbody tr th:only-of-type {\n",
       "        vertical-align: middle;\n",
       "    }\n",
       "\n",
       "    .dataframe tbody tr th {\n",
       "        vertical-align: top;\n",
       "    }\n",
       "\n",
       "    .dataframe thead th {\n",
       "        text-align: right;\n",
       "    }\n",
       "</style>\n",
       "<table border=\"1\" class=\"dataframe\">\n",
       "  <thead>\n",
       "    <tr style=\"text-align: right;\">\n",
       "      <th></th>\n",
       "      <th>book_id</th>\n",
       "      <th>author_id</th>\n",
       "      <th>title</th>\n",
       "      <th>num_pages</th>\n",
       "      <th>publication_date</th>\n",
       "      <th>publisher_id</th>\n",
       "    </tr>\n",
       "  </thead>\n",
       "  <tbody>\n",
       "    <tr>\n",
       "      <th>0</th>\n",
       "      <td>1</td>\n",
       "      <td>546</td>\n",
       "      <td>'Salem's Lot</td>\n",
       "      <td>594</td>\n",
       "      <td>2005-11-01</td>\n",
       "      <td>93</td>\n",
       "    </tr>\n",
       "    <tr>\n",
       "      <th>1</th>\n",
       "      <td>2</td>\n",
       "      <td>465</td>\n",
       "      <td>1 000 Places to See Before You Die</td>\n",
       "      <td>992</td>\n",
       "      <td>2003-05-22</td>\n",
       "      <td>336</td>\n",
       "    </tr>\n",
       "    <tr>\n",
       "      <th>2</th>\n",
       "      <td>3</td>\n",
       "      <td>407</td>\n",
       "      <td>13 Little Blue Envelopes (Little Blue Envelope...</td>\n",
       "      <td>322</td>\n",
       "      <td>2010-12-21</td>\n",
       "      <td>135</td>\n",
       "    </tr>\n",
       "    <tr>\n",
       "      <th>3</th>\n",
       "      <td>4</td>\n",
       "      <td>82</td>\n",
       "      <td>1491: New Revelations of the Americas Before C...</td>\n",
       "      <td>541</td>\n",
       "      <td>2006-10-10</td>\n",
       "      <td>309</td>\n",
       "    </tr>\n",
       "    <tr>\n",
       "      <th>4</th>\n",
       "      <td>5</td>\n",
       "      <td>125</td>\n",
       "      <td>1776</td>\n",
       "      <td>386</td>\n",
       "      <td>2006-07-04</td>\n",
       "      <td>268</td>\n",
       "    </tr>\n",
       "  </tbody>\n",
       "</table>\n",
       "</div>"
      ],
      "text/plain": [
       "   book_id  author_id                                              title  \\\n",
       "0        1        546                                       'Salem's Lot   \n",
       "1        2        465                 1 000 Places to See Before You Die   \n",
       "2        3        407  13 Little Blue Envelopes (Little Blue Envelope...   \n",
       "3        4         82  1491: New Revelations of the Americas Before C...   \n",
       "4        5        125                                               1776   \n",
       "\n",
       "   num_pages publication_date  publisher_id  \n",
       "0        594       2005-11-01            93  \n",
       "1        992       2003-05-22           336  \n",
       "2        322       2010-12-21           135  \n",
       "3        541       2006-10-10           309  \n",
       "4        386       2006-07-04           268  "
      ]
     },
     "metadata": {},
     "output_type": "display_data"
    }
   ],
   "source": [
    "# Dataset books\n",
    "\n",
    "query = \"SELECT * FROM books LIMIT 5;\"\n",
    "books_df = pd.io.sql.read_sql(query, con=engine)\n",
    "display(books_df.head())"
   ]
  },
  {
   "cell_type": "code",
   "execution_count": 19,
   "metadata": {},
   "outputs": [
    {
     "data": {
      "text/html": [
       "<div>\n",
       "<style scoped>\n",
       "    .dataframe tbody tr th:only-of-type {\n",
       "        vertical-align: middle;\n",
       "    }\n",
       "\n",
       "    .dataframe tbody tr th {\n",
       "        vertical-align: top;\n",
       "    }\n",
       "\n",
       "    .dataframe thead th {\n",
       "        text-align: right;\n",
       "    }\n",
       "</style>\n",
       "<table border=\"1\" class=\"dataframe\">\n",
       "  <thead>\n",
       "    <tr style=\"text-align: right;\">\n",
       "      <th></th>\n",
       "      <th>author_id</th>\n",
       "      <th>author</th>\n",
       "    </tr>\n",
       "  </thead>\n",
       "  <tbody>\n",
       "    <tr>\n",
       "      <th>0</th>\n",
       "      <td>1</td>\n",
       "      <td>A.S. Byatt</td>\n",
       "    </tr>\n",
       "    <tr>\n",
       "      <th>1</th>\n",
       "      <td>2</td>\n",
       "      <td>Aesop/Laura Harris/Laura Gibbs</td>\n",
       "    </tr>\n",
       "    <tr>\n",
       "      <th>2</th>\n",
       "      <td>3</td>\n",
       "      <td>Agatha Christie</td>\n",
       "    </tr>\n",
       "    <tr>\n",
       "      <th>3</th>\n",
       "      <td>4</td>\n",
       "      <td>Alan Brennert</td>\n",
       "    </tr>\n",
       "    <tr>\n",
       "      <th>4</th>\n",
       "      <td>5</td>\n",
       "      <td>Alan Moore/David   Lloyd</td>\n",
       "    </tr>\n",
       "  </tbody>\n",
       "</table>\n",
       "</div>"
      ],
      "text/plain": [
       "   author_id                          author\n",
       "0          1                      A.S. Byatt\n",
       "1          2  Aesop/Laura Harris/Laura Gibbs\n",
       "2          3                 Agatha Christie\n",
       "3          4                   Alan Brennert\n",
       "4          5        Alan Moore/David   Lloyd"
      ]
     },
     "metadata": {},
     "output_type": "display_data"
    }
   ],
   "source": [
    "# Dataset authors\n",
    "\n",
    "query = \"SELECT * FROM authors LIMIT 5;\"\n",
    "authors_df = pd.io.sql.read_sql(query, con=engine)\n",
    "display(authors_df.head())"
   ]
  },
  {
   "cell_type": "code",
   "execution_count": 20,
   "metadata": {},
   "outputs": [
    {
     "data": {
      "text/html": [
       "<div>\n",
       "<style scoped>\n",
       "    .dataframe tbody tr th:only-of-type {\n",
       "        vertical-align: middle;\n",
       "    }\n",
       "\n",
       "    .dataframe tbody tr th {\n",
       "        vertical-align: top;\n",
       "    }\n",
       "\n",
       "    .dataframe thead th {\n",
       "        text-align: right;\n",
       "    }\n",
       "</style>\n",
       "<table border=\"1\" class=\"dataframe\">\n",
       "  <thead>\n",
       "    <tr style=\"text-align: right;\">\n",
       "      <th></th>\n",
       "      <th>publisher_id</th>\n",
       "      <th>publisher</th>\n",
       "    </tr>\n",
       "  </thead>\n",
       "  <tbody>\n",
       "    <tr>\n",
       "      <th>0</th>\n",
       "      <td>1</td>\n",
       "      <td>Ace</td>\n",
       "    </tr>\n",
       "    <tr>\n",
       "      <th>1</th>\n",
       "      <td>2</td>\n",
       "      <td>Ace Book</td>\n",
       "    </tr>\n",
       "    <tr>\n",
       "      <th>2</th>\n",
       "      <td>3</td>\n",
       "      <td>Ace Books</td>\n",
       "    </tr>\n",
       "    <tr>\n",
       "      <th>3</th>\n",
       "      <td>4</td>\n",
       "      <td>Ace Hardcover</td>\n",
       "    </tr>\n",
       "    <tr>\n",
       "      <th>4</th>\n",
       "      <td>5</td>\n",
       "      <td>Addison Wesley Publishing Company</td>\n",
       "    </tr>\n",
       "  </tbody>\n",
       "</table>\n",
       "</div>"
      ],
      "text/plain": [
       "   publisher_id                          publisher\n",
       "0             1                                Ace\n",
       "1             2                           Ace Book\n",
       "2             3                          Ace Books\n",
       "3             4                      Ace Hardcover\n",
       "4             5  Addison Wesley Publishing Company"
      ]
     },
     "metadata": {},
     "output_type": "display_data"
    }
   ],
   "source": [
    "# Dataset publishers\n",
    "\n",
    "query = \"SELECT * FROM publishers LIMIT 5;\"\n",
    "publishers_df = pd.io.sql.read_sql(query, con=engine)\n",
    "display(publishers_df.head())"
   ]
  },
  {
   "cell_type": "code",
   "execution_count": 21,
   "metadata": {},
   "outputs": [
    {
     "data": {
      "text/html": [
       "<div>\n",
       "<style scoped>\n",
       "    .dataframe tbody tr th:only-of-type {\n",
       "        vertical-align: middle;\n",
       "    }\n",
       "\n",
       "    .dataframe tbody tr th {\n",
       "        vertical-align: top;\n",
       "    }\n",
       "\n",
       "    .dataframe thead th {\n",
       "        text-align: right;\n",
       "    }\n",
       "</style>\n",
       "<table border=\"1\" class=\"dataframe\">\n",
       "  <thead>\n",
       "    <tr style=\"text-align: right;\">\n",
       "      <th></th>\n",
       "      <th>rating_id</th>\n",
       "      <th>book_id</th>\n",
       "      <th>username</th>\n",
       "      <th>rating</th>\n",
       "    </tr>\n",
       "  </thead>\n",
       "  <tbody>\n",
       "    <tr>\n",
       "      <th>0</th>\n",
       "      <td>1</td>\n",
       "      <td>1</td>\n",
       "      <td>ryanfranco</td>\n",
       "      <td>4</td>\n",
       "    </tr>\n",
       "    <tr>\n",
       "      <th>1</th>\n",
       "      <td>2</td>\n",
       "      <td>1</td>\n",
       "      <td>grantpatricia</td>\n",
       "      <td>2</td>\n",
       "    </tr>\n",
       "    <tr>\n",
       "      <th>2</th>\n",
       "      <td>3</td>\n",
       "      <td>1</td>\n",
       "      <td>brandtandrea</td>\n",
       "      <td>5</td>\n",
       "    </tr>\n",
       "    <tr>\n",
       "      <th>3</th>\n",
       "      <td>4</td>\n",
       "      <td>2</td>\n",
       "      <td>lorichen</td>\n",
       "      <td>3</td>\n",
       "    </tr>\n",
       "    <tr>\n",
       "      <th>4</th>\n",
       "      <td>5</td>\n",
       "      <td>2</td>\n",
       "      <td>mariokeller</td>\n",
       "      <td>2</td>\n",
       "    </tr>\n",
       "  </tbody>\n",
       "</table>\n",
       "</div>"
      ],
      "text/plain": [
       "   rating_id  book_id       username  rating\n",
       "0          1        1     ryanfranco       4\n",
       "1          2        1  grantpatricia       2\n",
       "2          3        1   brandtandrea       5\n",
       "3          4        2       lorichen       3\n",
       "4          5        2    mariokeller       2"
      ]
     },
     "metadata": {},
     "output_type": "display_data"
    }
   ],
   "source": [
    "# Dataset ratings\n",
    "\n",
    "query = \"SELECT * FROM ratings LIMIT 5;\"\n",
    "ratings_df = pd.io.sql.read_sql(query, con=engine)\n",
    "display(ratings_df.head())"
   ]
  },
  {
   "cell_type": "code",
   "execution_count": 22,
   "metadata": {},
   "outputs": [
    {
     "data": {
      "text/html": [
       "<div>\n",
       "<style scoped>\n",
       "    .dataframe tbody tr th:only-of-type {\n",
       "        vertical-align: middle;\n",
       "    }\n",
       "\n",
       "    .dataframe tbody tr th {\n",
       "        vertical-align: top;\n",
       "    }\n",
       "\n",
       "    .dataframe thead th {\n",
       "        text-align: right;\n",
       "    }\n",
       "</style>\n",
       "<table border=\"1\" class=\"dataframe\">\n",
       "  <thead>\n",
       "    <tr style=\"text-align: right;\">\n",
       "      <th></th>\n",
       "      <th>review_id</th>\n",
       "      <th>book_id</th>\n",
       "      <th>username</th>\n",
       "      <th>text</th>\n",
       "    </tr>\n",
       "  </thead>\n",
       "  <tbody>\n",
       "    <tr>\n",
       "      <th>0</th>\n",
       "      <td>1</td>\n",
       "      <td>1</td>\n",
       "      <td>brandtandrea</td>\n",
       "      <td>Mention society tell send professor analysis. ...</td>\n",
       "    </tr>\n",
       "    <tr>\n",
       "      <th>1</th>\n",
       "      <td>2</td>\n",
       "      <td>1</td>\n",
       "      <td>ryanfranco</td>\n",
       "      <td>Foot glass pretty audience hit themselves. Amo...</td>\n",
       "    </tr>\n",
       "    <tr>\n",
       "      <th>2</th>\n",
       "      <td>3</td>\n",
       "      <td>2</td>\n",
       "      <td>lorichen</td>\n",
       "      <td>Listen treat keep worry. Miss husband tax but ...</td>\n",
       "    </tr>\n",
       "    <tr>\n",
       "      <th>3</th>\n",
       "      <td>4</td>\n",
       "      <td>3</td>\n",
       "      <td>johnsonamanda</td>\n",
       "      <td>Finally month interesting blue could nature cu...</td>\n",
       "    </tr>\n",
       "    <tr>\n",
       "      <th>4</th>\n",
       "      <td>5</td>\n",
       "      <td>3</td>\n",
       "      <td>scotttamara</td>\n",
       "      <td>Nation purpose heavy give wait song will. List...</td>\n",
       "    </tr>\n",
       "  </tbody>\n",
       "</table>\n",
       "</div>"
      ],
      "text/plain": [
       "   review_id  book_id       username  \\\n",
       "0          1        1   brandtandrea   \n",
       "1          2        1     ryanfranco   \n",
       "2          3        2       lorichen   \n",
       "3          4        3  johnsonamanda   \n",
       "4          5        3    scotttamara   \n",
       "\n",
       "                                                text  \n",
       "0  Mention society tell send professor analysis. ...  \n",
       "1  Foot glass pretty audience hit themselves. Amo...  \n",
       "2  Listen treat keep worry. Miss husband tax but ...  \n",
       "3  Finally month interesting blue could nature cu...  \n",
       "4  Nation purpose heavy give wait song will. List...  "
      ]
     },
     "metadata": {},
     "output_type": "display_data"
    }
   ],
   "source": [
    "# Dataset reviews\n",
    "\n",
    "query = \"SELECT * FROM reviews LIMIT 5;\"\n",
    "reviews_df = pd.io.sql.read_sql(query, con=engine)\n",
    "display(reviews_df.head())"
   ]
  },
  {
   "cell_type": "markdown",
   "metadata": {},
   "source": [
    "## Ejercicios\n",
    "\n",
    "1. Encuentra el número de libros publicados después del 1 de enero de 2000.\n",
    "2. Encuentra el número de reseñas de usuarios y la calificación promedio para cada libro.\n",
    "3. Identifica la editorial que ha publicado el mayor número de libros con más de 50 páginas (esto te ayudará a excluir folletos y publicaciones similares de tu análisis).\n",
    "4. Identifica al autor que tiene la más alta calificación promedio del libro: mira solo los libros con al menos 50 calificaciones.\n",
    "5. Encuentra el número promedio de reseñas de texto entre los usuarios que calificaron más de 50 libros."
   ]
  },
  {
   "cell_type": "markdown",
   "metadata": {},
   "source": [
    "### Encuentra el número de libros publicados después del 1 de enero de 2000."
   ]
  },
  {
   "cell_type": "code",
   "execution_count": 37,
   "metadata": {},
   "outputs": [
    {
     "data": {
      "text/html": [
       "<div>\n",
       "<style scoped>\n",
       "    .dataframe tbody tr th:only-of-type {\n",
       "        vertical-align: middle;\n",
       "    }\n",
       "\n",
       "    .dataframe tbody tr th {\n",
       "        vertical-align: top;\n",
       "    }\n",
       "\n",
       "    .dataframe thead th {\n",
       "        text-align: right;\n",
       "    }\n",
       "</style>\n",
       "<table border=\"1\" class=\"dataframe\">\n",
       "  <thead>\n",
       "    <tr style=\"text-align: right;\">\n",
       "      <th></th>\n",
       "      <th>num_books</th>\n",
       "    </tr>\n",
       "  </thead>\n",
       "  <tbody>\n",
       "    <tr>\n",
       "      <th>0</th>\n",
       "      <td>819</td>\n",
       "    </tr>\n",
       "  </tbody>\n",
       "</table>\n",
       "</div>"
      ],
      "text/plain": [
       "   num_books\n",
       "0        819"
      ]
     },
     "metadata": {},
     "output_type": "display_data"
    }
   ],
   "source": [
    "# Número de libros publicados después del 1 de enero de 2000\n",
    "\n",
    "query = '''\n",
    "\n",
    "SELECT COUNT(*) AS num_books\n",
    "FROM books\n",
    "WHERE publication_date > '2000-01-01';'''\n",
    "\n",
    "num_books_df = pd.io.sql.read_sql(query, con=engine)\n",
    "display(num_books_df.head())"
   ]
  },
  {
   "cell_type": "markdown",
   "metadata": {},
   "source": [
    "- El número de libros que se publicaron después del 1 de enero de 2000 es de 819. \n",
    "- Es útil para analizar la cantidad de publicaciones recientes y puede ayudar a comprender las tendencias de publicación actuales."
   ]
  },
  {
   "cell_type": "markdown",
   "metadata": {},
   "source": [
    "### Encuentra el número de reseñas de usuarios y la calificación promedio para cada libro."
   ]
  },
  {
   "cell_type": "code",
   "execution_count": 38,
   "metadata": {},
   "outputs": [
    {
     "data": {
      "text/html": [
       "<div>\n",
       "<style scoped>\n",
       "    .dataframe tbody tr th:only-of-type {\n",
       "        vertical-align: middle;\n",
       "    }\n",
       "\n",
       "    .dataframe tbody tr th {\n",
       "        vertical-align: top;\n",
       "    }\n",
       "\n",
       "    .dataframe thead th {\n",
       "        text-align: right;\n",
       "    }\n",
       "</style>\n",
       "<table border=\"1\" class=\"dataframe\">\n",
       "  <thead>\n",
       "    <tr style=\"text-align: right;\">\n",
       "      <th></th>\n",
       "      <th>book_id</th>\n",
       "      <th>title</th>\n",
       "      <th>num_reviews</th>\n",
       "      <th>avg_rating</th>\n",
       "    </tr>\n",
       "  </thead>\n",
       "  <tbody>\n",
       "    <tr>\n",
       "      <th>0</th>\n",
       "      <td>652</td>\n",
       "      <td>The Body in the Library (Miss Marple  #3)</td>\n",
       "      <td>4</td>\n",
       "      <td>4.500000</td>\n",
       "    </tr>\n",
       "    <tr>\n",
       "      <th>1</th>\n",
       "      <td>273</td>\n",
       "      <td>Galápagos</td>\n",
       "      <td>4</td>\n",
       "      <td>4.500000</td>\n",
       "    </tr>\n",
       "    <tr>\n",
       "      <th>2</th>\n",
       "      <td>51</td>\n",
       "      <td>A Tree Grows in Brooklyn</td>\n",
       "      <td>60</td>\n",
       "      <td>4.250000</td>\n",
       "    </tr>\n",
       "    <tr>\n",
       "      <th>3</th>\n",
       "      <td>951</td>\n",
       "      <td>Undaunted Courage: The Pioneering First Missio...</td>\n",
       "      <td>4</td>\n",
       "      <td>4.000000</td>\n",
       "    </tr>\n",
       "    <tr>\n",
       "      <th>4</th>\n",
       "      <td>839</td>\n",
       "      <td>The Prophet</td>\n",
       "      <td>28</td>\n",
       "      <td>4.285714</td>\n",
       "    </tr>\n",
       "  </tbody>\n",
       "</table>\n",
       "</div>"
      ],
      "text/plain": [
       "   book_id                                              title  num_reviews  \\\n",
       "0      652          The Body in the Library (Miss Marple  #3)            4   \n",
       "1      273                                          Galápagos            4   \n",
       "2       51                           A Tree Grows in Brooklyn           60   \n",
       "3      951  Undaunted Courage: The Pioneering First Missio...            4   \n",
       "4      839                                        The Prophet           28   \n",
       "\n",
       "   avg_rating  \n",
       "0    4.500000  \n",
       "1    4.500000  \n",
       "2    4.250000  \n",
       "3    4.000000  \n",
       "4    4.285714  "
      ]
     },
     "metadata": {},
     "output_type": "display_data"
    }
   ],
   "source": [
    "# Número de reseñas de usuarios y calificación promedio para cada libro\n",
    "\n",
    "query = '''\n",
    "\n",
    "SELECT\n",
    "    b.book_id,\n",
    "    b.title,\n",
    "    COUNT(r.review_id) AS num_reviews,\n",
    "    AVG(rt.rating) AS avg_rating\n",
    "FROM books b\n",
    "LEFT JOIN reviews r ON b.book_id = r.book_id\n",
    "LEFT JOIN ratings rt ON b.book_id = rt.book_id\n",
    "GROUP BY b.book_id, b.title;'''\n",
    "\n",
    "books_reviews_rating_df = pd.io.sql.read_sql(query, con=engine)\n",
    "display(books_reviews_rating_df.head())"
   ]
  },
  {
   "cell_type": "markdown",
   "metadata": {},
   "source": [
    "- Esta consulta proporciona el número de reseñas de usuarios y la calificación promedio para cada libro. \n",
    "- Ahora es posible identificar cuáles libros son más populares y mejor valorados, lo cual puede ser útil para recomendaciones."
   ]
  },
  {
   "cell_type": "markdown",
   "metadata": {},
   "source": [
    "### Identifica la editorial que ha publicado el mayor número de libros con más de 50 páginas (esto te ayudará a excluir folletos y publicaciones similares de tu análisis)."
   ]
  },
  {
   "cell_type": "code",
   "execution_count": 39,
   "metadata": {},
   "outputs": [
    {
     "data": {
      "text/html": [
       "<div>\n",
       "<style scoped>\n",
       "    .dataframe tbody tr th:only-of-type {\n",
       "        vertical-align: middle;\n",
       "    }\n",
       "\n",
       "    .dataframe tbody tr th {\n",
       "        vertical-align: top;\n",
       "    }\n",
       "\n",
       "    .dataframe thead th {\n",
       "        text-align: right;\n",
       "    }\n",
       "</style>\n",
       "<table border=\"1\" class=\"dataframe\">\n",
       "  <thead>\n",
       "    <tr style=\"text-align: right;\">\n",
       "      <th></th>\n",
       "      <th>publisher</th>\n",
       "      <th>num_books</th>\n",
       "    </tr>\n",
       "  </thead>\n",
       "  <tbody>\n",
       "    <tr>\n",
       "      <th>0</th>\n",
       "      <td>Penguin Books</td>\n",
       "      <td>42</td>\n",
       "    </tr>\n",
       "  </tbody>\n",
       "</table>\n",
       "</div>"
      ],
      "text/plain": [
       "       publisher  num_books\n",
       "0  Penguin Books         42"
      ]
     },
     "metadata": {},
     "output_type": "display_data"
    }
   ],
   "source": [
    "# Editorial con más libros con más de 50 páginas\n",
    "\n",
    "query = '''\n",
    "\n",
    "SELECT\n",
    "    p.publisher,\n",
    "    COUNT(b.book_id) AS num_books\n",
    "FROM books b\n",
    "JOIN publishers p ON b.publisher_id = p.publisher_id\n",
    "WHERE b.num_pages > 50\n",
    "GROUP BY p.publisher\n",
    "ORDER BY num_books DESC\n",
    "LIMIT 1;'''\n",
    "\n",
    "pub_num_books_50_pages_df = pd.io.sql.read_sql(query, con=engine)\n",
    "display(pub_num_books_50_pages_df.head())"
   ]
  },
  {
   "cell_type": "markdown",
   "metadata": {},
   "source": [
    "- Penguin Books, con 42 libros, ha publicado la mayor cantidad de libros con más de 50 páginas. \n",
    "- Esto es relevante para entender qué editoriales están más enfocadas en publicaciones completas y de mayor contenido."
   ]
  },
  {
   "cell_type": "markdown",
   "metadata": {},
   "source": [
    "### Identifica al autor que tiene la más alta calificación promedio del libro: mira solo los libros con al menos 50 calificaciones."
   ]
  },
  {
   "cell_type": "code",
   "execution_count": 40,
   "metadata": {},
   "outputs": [
    {
     "data": {
      "text/html": [
       "<div>\n",
       "<style scoped>\n",
       "    .dataframe tbody tr th:only-of-type {\n",
       "        vertical-align: middle;\n",
       "    }\n",
       "\n",
       "    .dataframe tbody tr th {\n",
       "        vertical-align: top;\n",
       "    }\n",
       "\n",
       "    .dataframe thead th {\n",
       "        text-align: right;\n",
       "    }\n",
       "</style>\n",
       "<table border=\"1\" class=\"dataframe\">\n",
       "  <thead>\n",
       "    <tr style=\"text-align: right;\">\n",
       "      <th></th>\n",
       "      <th>author</th>\n",
       "      <th>avg_rating</th>\n",
       "    </tr>\n",
       "  </thead>\n",
       "  <tbody>\n",
       "    <tr>\n",
       "      <th>0</th>\n",
       "      <td>Diana Gabaldon</td>\n",
       "      <td>4.3</td>\n",
       "    </tr>\n",
       "  </tbody>\n",
       "</table>\n",
       "</div>"
      ],
      "text/plain": [
       "           author  avg_rating\n",
       "0  Diana Gabaldon         4.3"
      ]
     },
     "metadata": {},
     "output_type": "display_data"
    }
   ],
   "source": [
    "# Autor con la calificación promedio más alta (libros con al menos 50 calificaciones)\n",
    "\n",
    "query = '''\n",
    "\n",
    "SELECT\n",
    "    a.author,\n",
    "    AVG(rt.rating) AS avg_rating\n",
    "FROM books b\n",
    "JOIN authors a ON b.author_id = a.author_id\n",
    "JOIN ratings rt ON b.book_id = rt.book_id\n",
    "GROUP BY a.author\n",
    "HAVING COUNT(rt.rating) >= 50\n",
    "ORDER BY avg_rating DESC\n",
    "LIMIT 1;'''\n",
    "\n",
    "avg_rating_author_50_pages_df = pd.io.sql.read_sql(query, con=engine)\n",
    "display(avg_rating_author_50_pages_df.head())"
   ]
  },
  {
   "cell_type": "markdown",
   "metadata": {},
   "source": [
    "- Diana Gabaldon es la autora con la calificación promedio más alta entre los libros que tienen al menos 50 calificaciones.\n",
    "- Esto es importante para identificar autores altamente valorados y populares, lo cual puede ser una ventaja en la promoción de libros."
   ]
  },
  {
   "cell_type": "markdown",
   "metadata": {},
   "source": [
    "### Encuentra el número promedio de reseñas de texto entre los usuarios que calificaron más de 50 libros."
   ]
  },
  {
   "cell_type": "code",
   "execution_count": 41,
   "metadata": {},
   "outputs": [
    {
     "data": {
      "text/html": [
       "<div>\n",
       "<style scoped>\n",
       "    .dataframe tbody tr th:only-of-type {\n",
       "        vertical-align: middle;\n",
       "    }\n",
       "\n",
       "    .dataframe tbody tr th {\n",
       "        vertical-align: top;\n",
       "    }\n",
       "\n",
       "    .dataframe thead th {\n",
       "        text-align: right;\n",
       "    }\n",
       "</style>\n",
       "<table border=\"1\" class=\"dataframe\">\n",
       "  <thead>\n",
       "    <tr style=\"text-align: right;\">\n",
       "      <th></th>\n",
       "      <th>avg_num_reviews</th>\n",
       "    </tr>\n",
       "  </thead>\n",
       "  <tbody>\n",
       "    <tr>\n",
       "      <th>0</th>\n",
       "      <td>24.333333</td>\n",
       "    </tr>\n",
       "  </tbody>\n",
       "</table>\n",
       "</div>"
      ],
      "text/plain": [
       "   avg_num_reviews\n",
       "0        24.333333"
      ]
     },
     "metadata": {},
     "output_type": "display_data"
    }
   ],
   "source": [
    "# Número promedio de reseñas de texto entre usuarios que calificaron más de 50 libros\n",
    "\n",
    "query = '''\n",
    "\n",
    "SELECT\n",
    "    AVG(num_reviews) AS avg_num_reviews\n",
    "FROM (\n",
    "    SELECT\n",
    "        username,\n",
    "        COUNT(review_id) AS num_reviews\n",
    "    FROM reviews\n",
    "    WHERE username IN (\n",
    "        SELECT username\n",
    "        FROM ratings\n",
    "        GROUP BY username\n",
    "        HAVING COUNT(book_id) > 50\n",
    "    )\n",
    "    GROUP BY username\n",
    ") AS user_reviews;'''\n",
    "\n",
    "avg_num_reviews_user_50_books_df = pd.io.sql.read_sql(query, con=engine)\n",
    "display(avg_num_reviews_user_50_books_df.head())"
   ]
  },
  {
   "cell_type": "markdown",
   "metadata": {},
   "source": [
    "- El número promedio de reseñas de texto entre los usuarios que han calificado más de 50 libros es de 24. \n",
    "- Este dato puede ayudar a identificar usuarios altamente activos y comprometidos en la comunidad de lectores, lo cual puede servir para generar estrategias de fidelización."
   ]
  }
 ],
 "metadata": {
  "ExecuteTimeLog": [
   {
    "duration": 2,
    "start_time": "2024-09-18T03:03:01.290Z"
   },
   {
    "duration": 359,
    "start_time": "2024-09-18T03:05:40.325Z"
   },
   {
    "duration": 2828,
    "start_time": "2024-09-18T03:06:35.766Z"
   },
   {
    "duration": 2606,
    "start_time": "2024-09-18T03:07:14.620Z"
   },
   {
    "duration": 6,
    "start_time": "2024-09-18T03:08:06.239Z"
   },
   {
    "duration": 4,
    "start_time": "2024-09-18T03:10:31.614Z"
   },
   {
    "duration": 4,
    "start_time": "2024-09-18T03:11:09.784Z"
   },
   {
    "duration": 5,
    "start_time": "2024-09-18T03:11:32.391Z"
   },
   {
    "duration": 742,
    "start_time": "2024-09-18T03:12:51.840Z"
   },
   {
    "duration": 741,
    "start_time": "2024-09-18T03:13:18.661Z"
   },
   {
    "duration": 740,
    "start_time": "2024-09-18T03:14:44.242Z"
   },
   {
    "duration": 741,
    "start_time": "2024-09-18T03:20:45.129Z"
   },
   {
    "duration": 1033,
    "start_time": "2024-09-18T03:22:19.889Z"
   },
   {
    "duration": 740,
    "start_time": "2024-09-18T03:23:45.522Z"
   },
   {
    "duration": 997,
    "start_time": "2024-09-18T03:23:54.157Z"
   },
   {
    "duration": 4,
    "start_time": "2024-09-18T03:24:51.054Z"
   },
   {
    "duration": 2792,
    "start_time": "2024-09-18T03:27:58.711Z"
   },
   {
    "duration": 804,
    "start_time": "2024-09-18T03:28:10.333Z"
   },
   {
    "duration": 800,
    "start_time": "2024-09-18T03:29:07.379Z"
   },
   {
    "duration": 800,
    "start_time": "2024-09-18T03:29:45.931Z"
   },
   {
    "duration": 801,
    "start_time": "2024-09-18T03:30:38.681Z"
   },
   {
    "duration": 800,
    "start_time": "2024-09-18T03:31:05.523Z"
   },
   {
    "duration": 799,
    "start_time": "2024-09-18T03:34:20.765Z"
   },
   {
    "duration": 1076,
    "start_time": "2024-09-18T03:34:27.375Z"
   },
   {
    "duration": 800,
    "start_time": "2024-09-18T03:36:51.456Z"
   },
   {
    "duration": 1077,
    "start_time": "2024-09-18T03:38:00.264Z"
   },
   {
    "duration": 1073,
    "start_time": "2024-09-18T03:38:11.369Z"
   },
   {
    "duration": 806,
    "start_time": "2024-09-18T03:41:40.242Z"
   },
   {
    "duration": 802,
    "start_time": "2024-09-18T03:45:20.166Z"
   },
   {
    "duration": 801,
    "start_time": "2024-09-18T03:53:49.580Z"
   },
   {
    "duration": 801,
    "start_time": "2024-09-18T03:53:55.758Z"
   },
   {
    "duration": 801,
    "start_time": "2024-09-18T03:54:01.016Z"
   },
   {
    "duration": 801,
    "start_time": "2024-09-18T03:54:05.497Z"
   },
   {
    "duration": 804,
    "start_time": "2024-09-18T03:54:10.566Z"
   },
   {
    "duration": 799,
    "start_time": "2024-09-18T03:58:55.836Z"
   },
   {
    "duration": 802,
    "start_time": "2024-09-18T03:59:10.772Z"
   },
   {
    "duration": 799,
    "start_time": "2024-09-18T03:59:29.846Z"
   },
   {
    "duration": 1073,
    "start_time": "2024-09-18T03:59:34.225Z"
   },
   {
    "duration": 800,
    "start_time": "2024-09-18T03:59:38.958Z"
   },
   {
    "duration": 803,
    "start_time": "2024-09-18T03:59:43.398Z"
   },
   {
    "duration": 800,
    "start_time": "2024-09-18T03:59:47.697Z"
   }
  ],
  "kernelspec": {
   "display_name": "Python 3 (ipykernel)",
   "language": "python",
   "name": "python3"
  },
  "language_info": {
   "codemirror_mode": {
    "name": "ipython",
    "version": 3
   },
   "file_extension": ".py",
   "mimetype": "text/x-python",
   "name": "python",
   "nbconvert_exporter": "python",
   "pygments_lexer": "ipython3",
   "version": "3.9.19"
  },
  "toc": {
   "base_numbering": 1,
   "nav_menu": {},
   "number_sections": true,
   "sideBar": true,
   "skip_h1_title": true,
   "title_cell": "Table of Contents",
   "title_sidebar": "Contents",
   "toc_cell": false,
   "toc_position": {},
   "toc_section_display": true,
   "toc_window_display": false
  }
 },
 "nbformat": 4,
 "nbformat_minor": 2
}
